{
 "cells": [
  {
   "cell_type": "code",
   "execution_count": null,
   "id": "02537bdd",
   "metadata": {},
   "outputs": [],
   "source": [
    "import requests\n",
    "import openai\n",
    "\n",
    "client = openai.OpenAI(api_key=\"fill this\")"
   ]
  },
  {
   "cell_type": "code",
   "execution_count": null,
   "id": "608a2466",
   "metadata": {},
   "outputs": [],
   "source": [
    "def personal_cold_email(name, text):\n",
    "    if not text or len(text.strip()) < 50:\n",
    "        messages = [\n",
    "            {\"role\": \"system\", \"content\": \"You are an AI assistant. Please search the internet for information about this professor and their research interests.\"},\n",
    "            {\"role\": \"user\", \"content\": f\"Search for information about Professor {name} and their research background, current work, and interests.\"}\n",
    "        ]\n",
    "        \n",
    "        search_response = client.chat.completions.create(\n",
    "            model=\"gpt-4o-mini\", \n",
    "            messages=messages\n",
    "        )\n",
    "        text = search_response.choices[0].message.content\n",
    "\n",
    "    messages = [\n",
    "        {\"role\": \"system\", \"content\": \"You are an AI assistant helping to craft personalized cold emails to professors regarding research opportunities. You should analyze the professor's background and research interests to create a tailored message.\"},\n",
    "        {\"role\": \"user\", \"content\": (\n",
    "            f\"Professor's name: {name}\\n\"\n",
    "            f\"Professor's profile text: {text}\\n\\n\"\n",
    "            f\"Create a personalized email body (no subject line) for a research opportunity inquiry using this template:\\n\\n\"\n",
    "            f\"Dear [Professor Name],\\n\\n\"\n",
    "            f\"[Personalized opening and connection to their interest]\\n\\n\"\n",
    "            f\"I am name, a second-year undergraduate in department at IIT Bombay. Through my academic journey, I have maintained strong academic performance, demonstrated by my achievements in JEE Advanced (top 1.5 percentile). My coursework includes Electrical Networks & Machines, Fluid Mechanics & Heat Transfer, Thermodynamics & Energy Conversion, and other core energy science subjects.\\n\\n\"\n",
    "            f\"I have gained valuable hands-on experience through projects like Vector Control of Induction Machines, where I reviewed advanced control methods for precise torque response, and an Implementation Plan for CCUS with EOR in India, where I developed a strategic roadmap for CO2 capture and storage. I've also worked on feasibility studies for CCUS projects, analyzing source-sink matching and conducting reservoir screening for geological storage solutions.\\n\\n\"\n",
    "            f\"[Specific connection to professor's research and potential contribution]\\n\\n\"\n",
    "            f\"I would greatly appreciate the opportunity to discuss potential research collaborations. Please let me know if we could schedule a brief discussion or if there are any formal application processes to follow.\\n\\n\"\n",
    "            f\"Thank you for your time and consideration.\\n\\n\"\n",
    "            f\"Best regards,\\n\"\n",
    "            f\"name\\n\"\n",
    "            f\"rollnumber@iitb.ac.in | +91 number\\n\\n\"\n",
    "            f\"Replace the bracketed sections with personalized content based on the professor's background while keeping the rest of the template intact. Make the connections specific and meaningful.\"\n",
    "        )}\n",
    "    ]\n",
    "\n",
    "    response = client.chat.completions.create(\n",
    "        model=\"gpt-4o-mini\",\n",
    "        messages=messages\n",
    "    )\n",
    "    return response.choices[0].message.content"
   ]
  }
 ],
 "metadata": {
  "kernelspec": {
   "display_name": "base",
   "language": "python",
   "name": "python3"
  },
  "language_info": {
   "name": "python",
   "version": "3.12.7"
  }
 },
 "nbformat": 4,
 "nbformat_minor": 5
}
